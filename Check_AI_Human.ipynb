{
 "cells": [
  {
   "cell_type": "code",
   "execution_count": 1,
   "id": "8f1b4847",
   "metadata": {},
   "outputs": [],
   "source": [
    "from transformers import AutoTokenizer, AutoModelForSequenceClassification\n",
    "\n",
    "tokenizer = AutoTokenizer.from_pretrained(\"Hello-SimpleAI/chatgpt-detector-roberta-chinese\")\n",
    "model = AutoModelForSequenceClassification.from_pretrained(\"Hello-SimpleAI/chatgpt-detector-roberta-chinese\")"
   ]
  },
  {
   "cell_type": "code",
   "execution_count": 2,
   "id": "861ba9f8",
   "metadata": {},
   "outputs": [
    {
     "name": "stdout",
     "output_type": "stream",
     "text": [
      "{0: 'Human', 1: 'ChatGPT'}\n",
      "tensor([[ 4.8209, -4.9549]])\n"
     ]
    },
    {
     "data": {
      "text/plain": [
       "'Human'"
      ]
     },
     "execution_count": 2,
     "metadata": {},
     "output_type": "execute_result"
    }
   ],
   "source": [
    "import torch\n",
    "\n",
    "text = '''\n",
    "多項民調顯示，民眾黨總統參選人柯文哲領先國、民兩黨總統參選人；\n",
    "台灣民意基金會董事長游盈隆認為，年輕選民不是今天才疏離民進黨；\n",
    "把年輕選民逐漸疏離民進黨的現象，歸因於賴清德個人風格，甚至穿著，\n",
    "基本上是犯了嚴重「見樹不見林」的謬誤。\n",
    "'''\n",
    "\n",
    "inputs = tokenizer(text, return_tensors=\"pt\")\n",
    "\n",
    "with torch.no_grad():\n",
    "    logits = model(**inputs).logits\n",
    "    \n",
    "print(model.config.id2label)\n",
    "print(logits)\n",
    "\n",
    "predicted_class_id = logits.argmax().item()\n",
    "model.config.id2label[predicted_class_id]"
   ]
  },
  {
   "cell_type": "code",
   "execution_count": 9,
   "id": "876ca3f9",
   "metadata": {},
   "outputs": [
    {
     "name": "stdout",
     "output_type": "stream",
     "text": [
      "{0: 'Human', 1: 'ChatGPT'}\n",
      "tensor([[-4.9169,  4.9372]])\n"
     ]
    },
    {
     "data": {
      "text/plain": [
       "'ChatGPT'"
      ]
     },
     "execution_count": 9,
     "metadata": {},
     "output_type": "execute_result"
    }
   ],
   "source": [
    "import torch\n",
    "\n",
    "text = '''\n",
    "這只是陳氏太極拳招式的一些例子，實際上陳氏太極拳擁有更多的招式和套路。\n",
    "每個招式都有特定的動作和意義，結合了太極拳的原則，如以柔克剛、以圓融化等。\n",
    "通過不斷練習和體驗，可以更好地理解和運用陳氏太極拳的招式。\n",
    "如果你對陳氏太極拳有更深入的興趣，建議尋找一位經驗豐富的太極拳教練或學習資源，\n",
    "以深入學習和探索。\n",
    "'''\n",
    "\n",
    "inputs = tokenizer(text, return_tensors=\"pt\")\n",
    "\n",
    "with torch.no_grad():\n",
    "    logits = model(**inputs).logits\n",
    "    \n",
    "print(model.config.id2label)\n",
    "print(logits)\n",
    "\n",
    "predicted_class_id = logits.argmax().item()\n",
    "model.config.id2label[predicted_class_id]"
   ]
  },
  {
   "cell_type": "code",
   "execution_count": 10,
   "id": "795452f6",
   "metadata": {},
   "outputs": [
    {
     "name": "stdout",
     "output_type": "stream",
     "text": [
      "{0: 'Human', 1: 'ChatGPT'}\n",
      "tensor([[ 4.3189, -4.6882]])\n"
     ]
    },
    {
     "data": {
      "text/plain": [
       "'Human'"
      ]
     },
     "execution_count": 10,
     "metadata": {},
     "output_type": "execute_result"
    }
   ],
   "source": [
    "import torch\n",
    "\n",
    "text = '''\n",
    "由於網際網路的快速發展，在網路上消費變得越來越方便，也越來越常見。\n",
    "現今消費者在網路消費前，會從社群網站的公開討論上比較商品間的差異，\n",
    "這已變成必做的功課。\n",
    "'''\n",
    "\n",
    "inputs = tokenizer(text, return_tensors=\"pt\")\n",
    "\n",
    "with torch.no_grad():\n",
    "    logits = model(**inputs).logits\n",
    "    \n",
    "print(model.config.id2label)\n",
    "print(logits)\n",
    "\n",
    "predicted_class_id = logits.argmax().item()\n",
    "model.config.id2label[predicted_class_id]"
   ]
  },
  {
   "cell_type": "code",
   "execution_count": null,
   "id": "0e71934f",
   "metadata": {},
   "outputs": [],
   "source": []
  }
 ],
 "metadata": {
  "kernelspec": {
   "display_name": "Python 3 (ipykernel)",
   "language": "python",
   "name": "python3"
  },
  "language_info": {
   "codemirror_mode": {
    "name": "ipython",
    "version": 3
   },
   "file_extension": ".py",
   "mimetype": "text/x-python",
   "name": "python",
   "nbconvert_exporter": "python",
   "pygments_lexer": "ipython3",
   "version": "3.9.12"
  }
 },
 "nbformat": 4,
 "nbformat_minor": 5
}
